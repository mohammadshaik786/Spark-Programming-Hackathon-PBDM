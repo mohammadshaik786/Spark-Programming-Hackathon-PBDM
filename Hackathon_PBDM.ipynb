{
  "nbformat": 4,
  "nbformat_minor": 0,
  "metadata": {
    "colab": {
      "provenance": []
    },
    "kernelspec": {
      "name": "python3",
      "display_name": "Python 3"
    },
    "language_info": {
      "name": "python"
    },
    "accelerator": "GPU",
    "gpuClass": "standard"
  },
  "cells": [
    {
      "cell_type": "markdown",
      "source": [
        "Rules for the hackathon:\n",
        "\n",
        "1. Need to execute all the tasks for full score.\n",
        "2. Environment can be on your own choice(Google Colab, Jupiter, Data Bricks, etc).\n",
        "3. Outputs are to be accurate.\n",
        "4. Can be performed as a group.\n",
        "5. Attedance will be considered.\n",
        "6. Can use public resources(open book)."
      ],
      "metadata": {
        "id": "h_gI40ToJG4U"
      }
    },
    {
      "cell_type": "markdown",
      "source": [
        "Github link to get file, we have file in different formats. Use one which you are comfortable in."
      ],
      "metadata": {
        "id": "L5ZkwkPJILOr"
      }
    },
    {
      "cell_type": "code",
      "execution_count": 1,
      "metadata": {
        "colab": {
          "base_uri": "https://localhost:8080/"
        },
        "id": "f4-zWX7Y_Aq0",
        "outputId": "065b83b0-9c3c-44d4-8bec-1c4408ad331f"
      },
      "outputs": [
        {
          "output_type": "stream",
          "name": "stdout",
          "text": [
            "Cloning into 'temp1'...\n",
            "remote: Enumerating objects: 12, done.\u001b[K\n",
            "remote: Counting objects: 100% (12/12), done.\u001b[K\n",
            "remote: Compressing objects: 100% (12/12), done.\u001b[K\n",
            "remote: Total 12 (delta 4), reused 0 (delta 0), pack-reused 0\u001b[K\n",
            "Unpacking objects: 100% (12/12), done.\n"
          ]
        }
      ],
      "source": [
        "!git clone https://github.com/rohithpotluri/USDATA.git temp1"
      ]
    },
    {
      "cell_type": "markdown",
      "source": [
        "Task 0 (Given and TO DO): Print any 10 words from the bill document. \n",
        "\n",
        "Task 1 (TO DO) Find 10 most frequent words in the bill.\n",
        "\n",
        "Task 2 (TO DO): Find 10 most frequent **wordle** words in the bill (note that **wordle** is a valid word that has five letters, such as grant, award, and funds. Btw, Wordle is a popular game :) https://www.nytimes.com/games/wordle/index.html\n",
        "\n",
        "Task 3 (TO DO): Find all **wordles** that start and end with same letter.\n",
        "\n",
        "Task 4 (TO DO): Find all **wordles** where all 5 letters are distinct.\n",
        "\n",
        "--------------------------------------------------------------------------------\n"
      ],
      "metadata": {
        "id": "4qGVIDWQ_LR8"
      }
    },
    {
      "cell_type": "code",
      "source": [
        " # Install pyspark\n",
        "!pip install pyspark\n",
        "# Import SparkSession\n",
        "from pyspark.sql import SparkSession\n",
        "# Create a Spark Session\n",
        "spark = SparkSession.builder.master(\"local[*]\").getOrCreate()\n",
        "# Check Spark Session Information\n",
        "spark\n",
        "# Import a Spark function from library\n",
        "from pyspark.sql.functions import col\n",
        "\n",
        "import pandas as pd\n",
        "\n",
        "# import all needed packages.\n",
        "import pyspark\n",
        "from pyspark import *\n",
        "\n",
        "from pyspark.mllib.util import MLUtils\n",
        "from pyspark.sql import SparkSession\n",
        "\n",
        "import numpy as np\n",
        "\n",
        "import pandas as pd\n",
        "from os import path\n",
        "from PIL import Image\n",
        "from wordcloud import WordCloud, STOPWORDS, ImageColorGenerator\n",
        "\n",
        "import matplotlib.pyplot as plt"
      ],
      "metadata": {
        "colab": {
          "base_uri": "https://localhost:8080/"
        },
        "id": "6v19gfNvPEWe",
        "outputId": "25c6e433-8b95-4a2d-9b84-222ce64f6d22"
      },
      "execution_count": 2,
      "outputs": [
        {
          "output_type": "stream",
          "name": "stdout",
          "text": [
            "Looking in indexes: https://pypi.org/simple, https://us-python.pkg.dev/colab-wheels/public/simple/\n",
            "Collecting pyspark\n",
            "  Downloading pyspark-3.3.1.tar.gz (281.4 MB)\n",
            "\u001b[K     |████████████████████████████████| 281.4 MB 47 kB/s \n",
            "\u001b[?25hCollecting py4j==0.10.9.5\n",
            "  Downloading py4j-0.10.9.5-py2.py3-none-any.whl (199 kB)\n",
            "\u001b[K     |████████████████████████████████| 199 kB 66.2 MB/s \n",
            "\u001b[?25hBuilding wheels for collected packages: pyspark\n",
            "  Building wheel for pyspark (setup.py) ... \u001b[?25l\u001b[?25hdone\n",
            "  Created wheel for pyspark: filename=pyspark-3.3.1-py2.py3-none-any.whl size=281845512 sha256=90d6045068f816f1089194a33868753b2cedca09873cb647447639af75b901c5\n",
            "  Stored in directory: /root/.cache/pip/wheels/43/dc/11/ec201cd671da62fa9c5cc77078235e40722170ceba231d7598\n",
            "Successfully built pyspark\n",
            "Installing collected packages: py4j, pyspark\n",
            "Successfully installed py4j-0.10.9.5 pyspark-3.3.1\n"
          ]
        }
      ]
    },
    {
      "cell_type": "markdown",
      "source": [
        "Task 0: Find the number of list of 10 words in the doc. "
      ],
      "metadata": {
        "id": "1421KneSfnAY"
      }
    },
    {
      "cell_type": "code",
      "source": [
        "# data is moved to rdd \"a\" with lowering all the characters and removing special characters.\n",
        "def lower_clean_str(x):\n",
        "    char = '!\"#$%&\\'()*+,-./:;<=>?@[\\\\]^_`{|}—~“”’'\n",
        "    lowercased_str = x.lower()\n",
        "    for ch in char:\n",
        "        lowercased_str = lowercased_str.replace(ch, '')\n",
        "    return lowercased_str\n",
        "# create Rdd (VAR1) from the file in Github\n",
        "var1 = spark.sparkContext.textFile('/content/temp1/PLAW-117publ58 (1) (2).txt').map(lower_clean_str)\n",
        "var1.top(10)\n",
        "\n"
      ],
      "metadata": {
        "colab": {
          "base_uri": "https://localhost:8080/"
        },
        "id": "rBuUzGFDYt02",
        "outputId": "73d072a4-5c7d-42a5-e403-6ae30d293c1f"
      },
      "execution_count": 3,
      "outputs": [
        {
          "output_type": "execute_result",
          "data": {
            "text/plain": [
              "['‘‘§ 70205 national multimodal cooperative freight research',\n",
              " '‘‘§ 70204 multistate freight corridor planning',\n",
              " '‘‘§ 6703 national culvert removal replacement and restoration grant program',\n",
              " '‘‘§ 6702 local and regional project assistance',\n",
              " '‘‘§ 6701 national infrastructure project assistance',\n",
              " '‘‘§ 6504 incorporation of department of transportation',\n",
              " '‘‘§ 611 asset concessions and innovative finance assistance',\n",
              " '‘‘§ 5507 transportation workforce outreach program',\n",
              " '‘‘§ 5506 advanced transportation research initiative',\n",
              " '‘‘§ 5338 authorizations']"
            ]
          },
          "metadata": {},
          "execution_count": 3
        }
      ]
    },
    {
      "cell_type": "code",
      "source": [],
      "metadata": {
        "id": "ZtWbAbFQfk5W"
      },
      "execution_count": 3,
      "outputs": []
    },
    {
      "cell_type": "markdown",
      "source": [
        "Task 1: Find 10 most frequent words in the bill.\n"
      ],
      "metadata": {
        "id": "m3QqMMCg_XbP"
      }
    },
    {
      "cell_type": "code",
      "source": [
        "# from pyspark.sql.functions import ltrim,rtrim,trim\n",
        "# reg_exp=\"\\\\s+\"\n",
        "counts = var1.flatMap(lambda line: line.split(\" \")) \\\n",
        "             .map(lambda word: (word, 1)) \\\n",
        "             .reduceByKey(lambda a, b: a + b)\\\n",
        "             .sortBy(lambda x:x[1], False)\n",
        "counts.take(10)"
      ],
      "metadata": {
        "id": "bB_TAi6U_Hnm",
        "outputId": "9caa3553-470d-4b07-8373-cb1e93eefdd3",
        "colab": {
          "base_uri": "https://localhost:8080/"
        }
      },
      "execution_count": 4,
      "outputs": [
        {
          "output_type": "execute_result",
          "data": {
            "text/plain": [
              "[('the', 27098),\n",
              " ('of', 18858),\n",
              " ('', 17383),\n",
              " ('and', 14169),\n",
              " ('to', 11192),\n",
              " ('a', 8701),\n",
              " ('in', 8312),\n",
              " ('for', 6462),\n",
              " ('under', 4978),\n",
              " ('or', 4743)]"
            ]
          },
          "metadata": {},
          "execution_count": 4
        }
      ]
    },
    {
      "cell_type": "markdown",
      "source": [
        "Task 2: Find 10 most frequent wordle word in the bill (note that wordle is a valid word that has five letters, no digits, such as grant, award, and funds."
      ],
      "metadata": {
        "id": "qIiIvtgJ_g73"
      }
    },
    {
      "cell_type": "code",
      "source": [
        "# wordle = counts.filter(lambda x:len(x[0])==5 & len(x[0])!=*(0-9))\n",
        "# filter(lambda x:x[0]!=\"00058\")\n",
        "wordle = counts.filter(lambda x:len(x[0])==5)\\\n",
        "               .filter(lambda x: not x[0].isdigit())\n",
        "\n",
        "sorted = wordle.sortBy(lambda x:x[1], False)\n",
        "sorted.take(10)"
      ],
      "metadata": {
        "id": "bQSf8gTT_pyc",
        "outputId": "900ee175-89a8-4204-dccd-1c47961f5b0b",
        "colab": {
          "base_uri": "https://localhost:8080/"
        }
      },
      "execution_count": 5,
      "outputs": [
        {
          "output_type": "execute_result",
          "data": {
            "text/plain": [
              "[('under', 4978),\n",
              " ('shall', 4420),\n",
              " ('state', 1673),\n",
              " ('title', 1391),\n",
              " ('grant', 1300),\n",
              " ('after', 1196),\n",
              " ('which', 1182),\n",
              " ('other', 1098),\n",
              " ('funds', 935),\n",
              " ('carry', 723)]"
            ]
          },
          "metadata": {},
          "execution_count": 5
        }
      ]
    },
    {
      "cell_type": "markdown",
      "source": [
        "Task 3: Find all words that start and end with same letter."
      ],
      "metadata": {
        "id": "RfVSl_b7_uR0"
      }
    },
    {
      "cell_type": "code",
      "source": [
        "wordle.filter(lambda x:(x[0][0]==x[0][-1])).filter(lambda x: not x[0].isdigit()).take(10)"
      ],
      "metadata": {
        "id": "PC44XN9Y_p80",
        "outputId": "c63a7760-5b00-466a-a57a-7e42ca6d08f4",
        "colab": {
          "base_uri": "https://localhost:8080/"
        }
      },
      "execution_count": 6,
      "outputs": [
        {
          "output_type": "execute_result",
          "data": {
            "text/plain": [
              "[('local', 447),\n",
              " ('level', 70),\n",
              " ('trust', 66),\n",
              " ('river', 39),\n",
              " ('legal', 29),\n",
              " ('sites', 24),\n",
              " ('dated', 15),\n",
              " ('rider', 14),\n",
              " ('steps', 13),\n",
              " ('seeks', 9)]"
            ]
          },
          "metadata": {},
          "execution_count": 6
        }
      ]
    },
    {
      "cell_type": "markdown",
      "source": [
        "Task 4: Find all wordles where all 5 letters are distinct."
      ],
      "metadata": {
        "id": "Sdo8AWzc_1TZ"
      }
    },
    {
      "cell_type": "code",
      "source": [
        "wordle.filter(lambda x:(x[0][0]!=x[0][1]!=x[0][2]!=x[0][3]!=x[0][4]))\\\n",
        "      .filter(lambda x:(x[0][1]!=x[0][0]!=x[0][2]!=x[0][3]!=x[0][4]))\\\n",
        "      .filter(lambda x:(x[0][2]!=x[0][0]!=x[0][1]!=x[0][3]!=x[0][4]))\\\n",
        "      .filter(lambda x:(x[0][3]!=x[0][0]!=x[0][1]!=x[0][2]!=x[0][4]))\\\n",
        "      .filter(lambda x:(x[0][4]!=x[0][0]!=x[0][1]!=x[0][2]!=x[0][3]))\\\n",
        "      .take(10)\n",
        "# wordle.filter(lambda x:x[0].isdistinct()).take(10)"
      ],
      "metadata": {
        "id": "vSZ-McNx_pXs",
        "outputId": "004441e5-c894-4208-99e1-97de1b0d1f9c",
        "colab": {
          "base_uri": "https://localhost:8080/"
        }
      },
      "execution_count": 9,
      "outputs": [
        {
          "output_type": "execute_result",
          "data": {
            "text/plain": [
              "[('under', 4978),\n",
              " ('grant', 1300),\n",
              " ('after', 1196),\n",
              " ('which', 1182),\n",
              " ('other', 1098),\n",
              " ('funds', 935),\n",
              " ('years', 723),\n",
              " ('until', 707),\n",
              " ('later', 681),\n",
              " ('means', 663)]"
            ]
          },
          "metadata": {},
          "execution_count": 9
        }
      ]
    },
    {
      "cell_type": "code",
      "source": [],
      "metadata": {
        "id": "Bdef9g4etlzO"
      },
      "execution_count": null,
      "outputs": []
    }
  ]
}